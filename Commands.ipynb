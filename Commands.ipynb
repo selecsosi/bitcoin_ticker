{
 "metadata": {
  "name": ""
 },
 "nbformat": 3,
 "nbformat_minor": 0,
 "worksheets": [
  {
   "cells": [
    {
     "cell_type": "markdown",
     "metadata": {},
     "source": [
      "#Commands\n",
      "celery -A bitcoin_ticker flower -l info\n",
      "\n",
      "celery -A bitcoin_ticker worker -l info"
     ]
    },
    {
     "cell_type": "code",
     "collapsed": false,
     "input": [],
     "language": "python",
     "metadata": {},
     "outputs": []
    }
   ],
   "metadata": {}
  }
 ]
}