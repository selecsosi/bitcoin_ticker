{
 "metadata": {
  "name": ""
 },
 "nbformat": 3,
 "nbformat_minor": 0,
 "worksheets": [
  {
   "cells": [
    {
     "cell_type": "code",
     "collapsed": false,
     "input": [
      "__author__ = 'sam'\n",
      "import requests\n",
      "import gzip\n",
      "import io\n",
      "import json\n",
      "\n",
      "class BaseRequestClient(object):\n",
      "    pass\n",
      "\n",
      "\n",
      "class QuoteRequestClient(object):\n",
      "\n",
      "    def __init__(self, exchange, exhange_endpoint, quote_type):\n",
      "        self.parser = self.get_exchange_parser(exhange_endpoint)\n",
      "\n",
      "    def get_endpoint(self):\n",
      "        pass\n",
      "\n",
      "    def get_exchange_parser(self, exhchange_endpoint):\n",
      "        pass\n",
      "\n",
      "\n",
      "\n",
      "class MtGoxQuoteRequestClient(QuoteRequestClient):\n",
      "\n",
      "    def get_quote(self):\n",
      "        #make the request\n",
      "\n",
      "        #parse the request\n",
      "        response = requests.get(\"\")\n",
      "        x = {}\n",
      "        enc = response.headers.get('Content-Encoding')\n",
      "        if isinstance(enc, str) and enc.lower() == 'gzip':\n",
      "            buff = io.BytesIO(response.content)\n",
      "            response = gzip.GzipFile(fileobj=buff)\n",
      "\n",
      "        output = json.load(response)\n",
      "\n",
      "\n",
      "    def parse_response(self, response_json):\n",
      "        new_quote_list = self.parser.parse(response_json)\n",
      "\n",
      "\n",
      "\n",
      "    def get_endpoint(self):\n",
      "        pass"
     ],
     "language": "python",
     "metadata": {},
     "outputs": []
    }
   ],
   "metadata": {}
  }
 ]
}